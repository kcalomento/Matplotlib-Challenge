{
 "cells": [
  {
   "attachments": {},
   "cell_type": "markdown",
   "metadata": {},
   "source": [
    "# Pymaceuticals Inc.\n",
    "---\n",
    "\n",
    "### Analysis\n",
    "Pymaceuticals, Inc. conducted a study to evaluate the effectiveness of various drug regimens in treating squamous cell carcinoma (SCC) in mice. The analysis explores several key aspects of the data, including:\n",
    "\n",
    "- **Overall Drug Efficacy**: Comparing the performance of different drug regimens, with a primary focus on Capomulin and Ramicane, two promising treatments.\n",
    "- **Gender-Based Analysis**: Examining whether there is a significant difference in treatment outcomes based on the gender of the mice.\n",
    "- **Tumor Volume Trends Over Time**: Observing tumor volume reduction over time for an individual mouse treated with Capomulin.\n",
    "- **Weight and Tumor Volume Correlation**: Analyzing the relationship between mouse weight and tumor volume under the Capomulin regimen to understand if weight influences treatment efficacy.\n",
    "\n",
    "---\n",
    "\n",
    "### **Key Findings**\n",
    "\n",
    "#### **1. Drug Regimen Comparison**\n",
    "- **Capomulin and Ramicane** consistently show significantly lower tumor volumes on average compared to other treatments, indicating they may be more effective at reducing tumor size.\n",
    "- **Outliers** in certain treatments, particularly Infubinol, suggest variable responses among mice, which may indicate inconsistent drug efficacy.\n",
    "- **Summary Statistics**: Calculations for each drug regimen reveal insights into tumor volume distribution and variability. Capomulin and Ramicane stand out as leading candidates for effective SCC treatment, based on their lower average tumor volumes and smaller variability.\n",
    "#### **2. Gender Distribution and Impact**\n",
    "- The study maintains a nearly balanced gender distribution, minimizing gender bias in the sample.\n",
    "- A comparison of tumor volumes by gender for Capomulin reveals slight variations, hinting at potential gender-based differences in response to treatment. However, further research with larger sample sizes is recommended to confirm whether gender significantly impacts treatment efficacy.\n",
    "#### **3. Tumor Volume Trends Over Time for Capomulin**\n",
    "- **Tumor Reduction Over Time**: Tracking tumor volume over time for a single mouse treated with Capomulin reveals a steady decrease in tumor size, underscoring Capomulin's potential as an effective SCC treatment.\n",
    "- The trend provides valuable insight into Capomulin’s action timeline, helping estimate how quickly the drug may begin showing effects, which is crucial for treatment planning.\n",
    "#### **4. Mouse Weight and Tumor Volume Correlation**\n",
    "- **Positive Correlation**: A scatter plot analysis of mouse weight versus average tumor volume for the Capomulin regimen shows a positive correlation, indicating that heavier mice tend to have larger tumor volumes on average.\n",
    "- The **Linear Regression Line** further supports this correlation, suggesting that weight might be a factor when determining the dosage of Capomulin. This implies that higher doses of Capomulin may be necessary for heavier mice to achieve the same tumor reduction, an important consideration for personalized treatment planning.\n",
    "\n",
    "---\n",
    "\n",
    "### **Conclusion**\n",
    "\n",
    "The analysis highlights Capomulin and Ramicane as the most effective candidates for SCC treatment, given their ability to consistently reduce tumor size. Additionally, the data suggests that **gender and weight may influence treatment efficacy**. Future studies should expand on these findings to:\n",
    "\n",
    "- Optimize dosing strategies to account for weight differences, ensuring consistent effectiveness across mice of varying sizes.\n",
    "- Investigate potential gender-specific responses to better understand treatment effects."
   ]
  },
  {
   "cell_type": "code",
   "execution_count": null,
   "metadata": {},
   "outputs": [],
   "source": [
    "# dependencies and setup\n",
    "import matplotlib.pyplot as plt\n",
    "import pandas as pd\n",
    "import scipy.stats as st\n",
    "\n",
    "# data files\n",
    "mouse_metadata_path = \"data/Mouse_metadata.csv\"\n",
    "study_results_path = \"data/Study_results.csv\"\n",
    "\n",
    "# read the mouse data and the study results\n",
    "mouse_metadata_df = pd.read_csv(mouse_metadata_path)\n",
    "study_results_df = pd.read_csv(study_results_path)\n",
    "\n",
    "# combine the data into a single df\n",
    "merged_df = pd.merge(mouse_metadata_df, study_results_df, on=\"Mouse ID\")\n",
    "\n",
    "# preview display\n",
    "print(\"preview of merged data:\")\n",
    "display(merged_df.head())"
   ]
  },
  {
   "cell_type": "code",
   "execution_count": null,
   "metadata": {},
   "outputs": [],
   "source": [
    "# checking number of mice\n",
    "unique_mice_count = merged_df[\"Mouse ID\"].nunique()\n",
    "print(\"Unique mice count:\", unique_mice_count)"
   ]
  },
  {
   "cell_type": "code",
   "execution_count": null,
   "metadata": {},
   "outputs": [],
   "source": [
    "# data should be uniquely identified by mouse id and timepoint\n",
    "\n",
    "# get duplicate mice by ID number that shows up formouse id and timepoint\n",
    "duplicate_entries = merged_df[merged_df.duplicated(subset=[\"Mouse ID\", \"Timepoint\"], keep=False)]\n",
    "print(\"Duplicate entries based on Mouse ID and Timepoint:\\n\", duplicate_entries)"
   ]
  },
  {
   "cell_type": "code",
   "execution_count": null,
   "metadata": {},
   "outputs": [],
   "source": [
    "# opt: get all the data for the duplicate mouse id\n",
    "duplicate_mouse_id = duplicate_entries[\"Mouse ID\"].unique()[0] \n",
    "duplicate_mouse_data = merged_df[merged_df[\"Mouse ID\"] == duplicate_mouse_id]\n",
    "print(f\"All data for duplicate mouse ID {duplicate_mouse_id}:\\n\", duplicate_mouse_data)"
   ]
  },
  {
   "cell_type": "code",
   "execution_count": 5,
   "metadata": {},
   "outputs": [],
   "source": [
    "# create a clean df by dropping the duplicate mouse by id\n",
    "cleaned_df = merged_df.drop_duplicates(subset=[\"Mouse ID\", \"Timepoint\"])"
   ]
  },
  {
   "cell_type": "code",
   "execution_count": null,
   "metadata": {},
   "outputs": [],
   "source": [
    "# check number of mice in the clean df\n",
    "cleaned_unique_mice_count = cleaned_df[\"Mouse ID\"].nunique()\n",
    "print(\"Number of unique mice in the cleaned data:\", cleaned_unique_mice_count)"
   ]
  },
  {
   "cell_type": "markdown",
   "metadata": {},
   "source": [
    "## Summary Statistics"
   ]
  },
  {
   "cell_type": "code",
   "execution_count": null,
   "metadata": {},
   "outputs": [],
   "source": [
    "# generate a summary statistics table of mean, median, variance, standard deviation, and SEM of the tumor volume for each regimen\n",
    "\n",
    "# groupby and summary statistical methods to calculate the following properties of each drug regimen:\n",
    "# mean, median, variance, standard deviation, and SEM of the tumor volume.\n",
    "mean_tumor_volume = merged_df.groupby(\"Drug Regimen\")[\"Tumor Volume (mm3)\"].mean()\n",
    "median_tumor_volume = merged_df.groupby(\"Drug Regimen\")[\"Tumor Volume (mm3)\"].median()\n",
    "variance_tumor_volume = merged_df.groupby(\"Drug Regimen\")[\"Tumor Volume (mm3)\"].var()\n",
    "std_tumor_volume = merged_df.groupby(\"Drug Regimen\")[\"Tumor Volume (mm3)\"].std()\n",
    "sem_tumor_volume = merged_df.groupby(\"Drug Regimen\")[\"Tumor Volume (mm3)\"].sem()\n",
    "\n",
    "# assemble into a single summary DataFrame.\n",
    "summary_stats_df = pd.DataFrame({\n",
    "    \"Mean Tumor Volume\": mean_tumor_volume,\n",
    "    \"Median Tumor Volume\": median_tumor_volume,\n",
    "    \"Tumor Volume Variance\": variance_tumor_volume,\n",
    "    \"Tumor Volume Std. Dev.\": std_tumor_volume,\n",
    "    \"Tumor Volume Std. Err.\": sem_tumor_volume\n",
    "})\n",
    "\n",
    "summary_stats_df\n"
   ]
  },
  {
   "cell_type": "code",
   "execution_count": null,
   "metadata": {},
   "outputs": [],
   "source": [
    "# more advanced method to generate a summary statistics table of mean, median, variance, standard deviation,\n",
    "# SEM of the tumor volume for each regimen (only one method is required in the solution)\n",
    "summary_stats_agg_df = merged_df.groupby(\"Drug Regimen\")[\"Tumor Volume (mm3)\"].agg(\n",
    "    Mean=\"mean\",\n",
    "    Median=\"median\",\n",
    "    Variance=\"var\",\n",
    "    StdDev=\"std\",\n",
    "    SEM=\"sem\"\n",
    ")\n",
    "\n",
    "# use aggregation method, produce the same summary statistics in a single line\n",
    "summary_stats_agg_df"
   ]
  },
  {
   "cell_type": "markdown",
   "metadata": {},
   "source": [
    "## Bar and Pie Charts"
   ]
  },
  {
   "cell_type": "code",
   "execution_count": null,
   "metadata": {},
   "outputs": [],
   "source": [
    "# generate bar plot showing the total number of rows (mouse id/timepoints) for each drug regimen using pandas\n",
    "timepoint_counts = merged_df[\"Drug Regimen\"].value_counts()\n",
    "timepoint_counts.plot(kind=\"bar\", title=\"Total Timepoints for Each Drug Regimen\", xlabel=\"Drug Regimen\", ylabel=\"Number of Timepoints\")\n",
    "plt.show()"
   ]
  },
  {
   "cell_type": "code",
   "execution_count": null,
   "metadata": {},
   "outputs": [],
   "source": [
    "# generate a bar plot showing the total number of rows (mouse id/timepoints) for each drug regimen using pyplot\n",
    "plt.bar(timepoint_counts.index, timepoint_counts.values)\n",
    "plt.title(\"Total Timepoints for Each Drug Regimen\")\n",
    "plt.xlabel(\"Drug Regimen\")\n",
    "plt.ylabel(\"Number of Timepoints\")\n",
    "plt.xticks(rotation=90)\n",
    "plt.show()"
   ]
  },
  {
   "cell_type": "code",
   "execution_count": null,
   "metadata": {},
   "outputs": [],
   "source": [
    "# generate pie chart, using pandas, showing the distribution of unique female versus male mice used in the study\n",
    "\n",
    "# unique mice with their gender\n",
    "gender_distribution = merged_df.drop_duplicates(subset=[\"Mouse ID\"])[\"Sex\"].value_counts()\n",
    "gender_distribution.plot(kind=\"pie\", autopct='%1.1f%%', title=\"Gender Distribution of Mice\")\n",
    "\n",
    "# make pie chart\n",
    "plt.ylabel(\"\")  \n",
    "plt.show()"
   ]
  },
  {
   "cell_type": "code",
   "execution_count": null,
   "metadata": {},
   "outputs": [],
   "source": [
    "# generate pie chart, using pyplot, showing the distribution of unique female versus male mice used in the study\n",
    "\n",
    "# unique mice with their gender\n",
    "plt.pie(gender_distribution, labels=gender_distribution.index, autopct='%1.1f%%')\n",
    "\n",
    "# make pie chart\n",
    "plt.title(\"Gender Distribution of Mice\")\n",
    "plt.show()"
   ]
  },
  {
   "cell_type": "markdown",
   "metadata": {},
   "source": [
    "## Quartiles, Outliers and Boxplots"
   ]
  },
  {
   "cell_type": "code",
   "execution_count": 13,
   "metadata": {},
   "outputs": [],
   "source": [
    "# calculate the final tumor volume of each mouse across four of the treatment regimens:\n",
    "    # Capomulin, Ramicane, Infubinol, and Ceftamin\n",
    "\n",
    "# last (greatest) timepoint for each mouse\n",
    "last_timepoint_df = merged_df.groupby(\"Mouse ID\")[\"Timepoint\"].max().reset_index()\n",
    "\n",
    "\n",
    "# merge this df with og df\n",
    "final_tumor_df = pd.merge(last_timepoint_df, merged_df, on=[\"Mouse ID\", \"Timepoint\"])"
   ]
  },
  {
   "cell_type": "code",
   "execution_count": null,
   "metadata": {},
   "outputs": [],
   "source": [
    "# list treatments for for loop (and later for plot labels)\n",
    "treatment_list = [\"Capomulin\", \"Ramicane\", \"Infubinol\", \"Ceftamin\"]\n",
    "\n",
    "# empty list to fill with tumor vol data (for plotting)\n",
    "tumor_volumes = []\n",
    "\n",
    "# loop through\n",
    "for drug in treatment_list:\n",
    "    # locate the rows which contain mice on each drug and get the tumor volumes\n",
    "    drug_data = final_tumor_df[final_tumor_df[\"Drug Regimen\"] == drug][\"Tumor Volume (mm3)\"]\n",
    "    \n",
    "    # append the tumor volume data to the list\n",
    "    tumor_volumes.append(drug_data)\n",
    "    \n",
    "    # calculate the IQR and quantitatively determine if there are any potential outliers\n",
    "    quartiles = drug_data.quantile([0.25, 0.5, 0.75])\n",
    "    lowerq = quartiles[0.25]\n",
    "    upperq = quartiles[0.75]\n",
    "    iqr = upperq - lowerq\n",
    "    \n",
    "    # outliers using upper and lower bounds\n",
    "    lower_bound = lowerq - (1.5 * iqr)\n",
    "    upper_bound = upperq + (1.5 * iqr)\n",
    "    outliers = drug_data[(drug_data < lower_bound) | (drug_data > upper_bound)]\n",
    "    print(f\"{drug} potential outliers:\\n{outliers}\\n\")"
   ]
  },
  {
   "cell_type": "code",
   "execution_count": null,
   "metadata": {},
   "outputs": [],
   "source": [
    "# boxplot to show the distribution of the tumor volume for each treatment group\n",
    "plt.boxplot(tumor_volumes, labels=treatment_list)\n",
    "plt.title(\"Final Tumor Volume for Selected Drug Regimens\")\n",
    "plt.ylabel(\"Tumor Volume (mm3)\")\n",
    "plt.show()"
   ]
  },
  {
   "cell_type": "markdown",
   "metadata": {},
   "source": [
    "## Line and Scatter Plots"
   ]
  },
  {
   "cell_type": "code",
   "execution_count": null,
   "metadata": {},
   "outputs": [],
   "source": [
    "# one mouse treated with Capomulin\n",
    "capomulin_data = merged_df[merged_df[\"Drug Regimen\"] == \"Capomulin\"]\n",
    "single_mouse_data = capomulin_data[capomulin_data[\"Mouse ID\"] == \"l509\"]  \n",
    "# you can replace the mouse id if you want to test with others\n",
    "\n",
    "# line plot of tumor volume vs. time point for  1509\n",
    "plt.plot(single_mouse_data[\"Timepoint\"], single_mouse_data[\"Tumor Volume (mm3)\"], marker='o')\n",
    "plt.title(\"Capomulin Treatment of Mouse l509\")\n",
    "plt.xlabel(\"Timepoint (days)\")\n",
    "plt.ylabel(\"Tumor Volume (mm3)\")\n",
    "plt.show()\n"
   ]
  },
  {
   "cell_type": "code",
   "execution_count": null,
   "metadata": {},
   "outputs": [],
   "source": [
    "# average tumor volume for each mouse on the Capomulin regimen\n",
    "capomulin_avg_tumor_vol = capomulin_data.groupby(\"Mouse ID\").agg(\n",
    "    avg_tumor_volume=(\"Tumor Volume (mm3)\", \"mean\"),\n",
    "    weight=(\"Weight (g)\", \"mean\")\n",
    ")\n",
    "\n",
    "# scatter plot of mouse weight vs. average tumor volume\n",
    "plt.scatter(capomulin_avg_tumor_vol[\"weight\"], capomulin_avg_tumor_vol[\"avg_tumor_volume\"])\n",
    "plt.title(\"Average Tumor Volume vs. Mouse Weight for Capomulin Regimen\")\n",
    "plt.xlabel(\"Weight (g)\")\n",
    "plt.ylabel(\"Average Tumor Volume (mm3)\")\n",
    "plt.show()\n",
    "plt.show()"
   ]
  },
  {
   "cell_type": "markdown",
   "metadata": {},
   "source": [
    "## Correlation and Regression"
   ]
  },
  {
   "cell_type": "code",
   "execution_count": null,
   "metadata": {},
   "outputs": [],
   "source": [
    "# calculation the correlation coefficient and a linear regression model\n",
    "    # this is for mouse weight and average observed tumor volume for the entire Capomulin regimen\n",
    "\n",
    "from scipy.stats import linregress\n",
    "\n",
    "# correlation coefficient\n",
    "correlation = capomulin_avg_tumor_vol[\"weight\"].corr(capomulin_avg_tumor_vol[\"avg_tumor_volume\"])\n",
    "print(f\"Correlation coefficient between mouse weight and average tumor volume: {correlation}\")\n",
    "\n",
    "# linear regression\n",
    "slope, intercept, r_value, p_value, std_err = linregress(\n",
    "    capomulin_avg_tumor_vol[\"weight\"], capomulin_avg_tumor_vol[\"avg_tumor_volume\"]\n",
    ")\n",
    "\n",
    "# plot linear regression model on the scatter plot\n",
    "plt.scatter(capomulin_avg_tumor_vol[\"weight\"], capomulin_avg_tumor_vol[\"avg_tumor_volume\"], label='Data')\n",
    "plt.plot(capomulin_avg_tumor_vol[\"weight\"], slope * capomulin_avg_tumor_vol[\"weight\"] + intercept, color='red', label='Fit Line')\n",
    "plt.title(\"Average Tumor Volume vs. Mouse Weight for Capomulin Regimen\")\n",
    "plt.xlabel(\"Weight (g)\")\n",
    "plt.ylabel(\"Average Tumor Volume (mm3)\")\n",
    "plt.legend()\n",
    "plt.show()\n"
   ]
  }
 ],
 "metadata": {
  "anaconda-cloud": {},
  "kernelspec": {
   "display_name": "base",
   "language": "python",
   "name": "python3"
  },
  "language_info": {
   "codemirror_mode": {
    "name": "ipython",
    "version": 3
   },
   "file_extension": ".py",
   "mimetype": "text/x-python",
   "name": "python",
   "nbconvert_exporter": "python",
   "pygments_lexer": "ipython3",
   "version": "3.12.4"
  }
 },
 "nbformat": 4,
 "nbformat_minor": 4
}
